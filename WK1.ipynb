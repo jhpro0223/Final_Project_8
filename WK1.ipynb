{
 "cells": [
  {
   "cell_type": "markdown",
   "id": "a1dcf86c",
   "metadata": {
    "id": "0NegoJw9jU68",
    "papermill": {
     "duration": 0.031849,
     "end_time": "2022-02-04T17:28:46.844507",
     "exception": false,
     "start_time": "2022-02-04T17:28:46.812658",
     "status": "completed"
    },
    "tags": []
   },
   "source": [
    "## Setup"
   ]
  },
  {
   "cell_type": "code",
   "execution_count": 1,
   "id": "748c4881",
   "metadata": {
    "_kg_hide-input": false,
    "_kg_hide-output": true,
    "execution": {
     "iopub.execute_input": "2022-02-04T17:28:46.915267Z",
     "iopub.status.busy": "2022-02-04T17:28:46.913584Z",
     "iopub.status.idle": "2022-02-04T17:30:13.152604Z",
     "shell.execute_reply": "2022-02-04T17:30:13.151947Z",
     "shell.execute_reply.started": "2022-02-02T14:43:18.767264Z"
    },
    "papermill": {
     "duration": 86.275517,
     "end_time": "2022-02-04T17:30:13.152776",
     "exception": false,
     "start_time": "2022-02-04T17:28:46.877259",
     "status": "completed"
    },
    "tags": []
   },
   "outputs": [
    {
     "name": "stdout",
     "output_type": "stream",
     "text": [
      "Collecting tensorflow==2.7.0\r\n",
      "  Downloading tensorflow-2.7.0-cp37-cp37m-manylinux2010_x86_64.whl (489.6 MB)\r\n",
      "     |████████████████████████████████| 489.6 MB 20 kB/s               \r\n",
      "\u001b[?25hCollecting keras<2.8,>=2.7.0rc0\r\n",
      "  Downloading keras-2.7.0-py2.py3-none-any.whl (1.3 MB)\r\n",
      "     |████████████████████████████████| 1.3 MB 35.0 MB/s            \r\n",
      "\u001b[?25hRequirement already satisfied: grpcio<2.0,>=1.24.3 in /opt/conda/lib/python3.7/site-packages (from tensorflow==2.7.0) (1.42.0)\r\n",
      "Requirement already satisfied: flatbuffers<3.0,>=1.12 in /opt/conda/lib/python3.7/site-packages (from tensorflow==2.7.0) (1.12)\r\n",
      "Requirement already satisfied: six>=1.12.0 in /opt/conda/lib/python3.7/site-packages (from tensorflow==2.7.0) (1.16.0)\r\n",
      "Requirement already satisfied: tensorboard~=2.6 in /opt/conda/lib/python3.7/site-packages (from tensorflow==2.7.0) (2.6.0)\r\n",
      "Requirement already satisfied: numpy>=1.14.5 in /opt/conda/lib/python3.7/site-packages (from tensorflow==2.7.0) (1.19.5)\r\n",
      "Requirement already satisfied: wrapt>=1.11.0 in /opt/conda/lib/python3.7/site-packages (from tensorflow==2.7.0) (1.13.3)\r\n",
      "Requirement already satisfied: h5py>=2.9.0 in /opt/conda/lib/python3.7/site-packages (from tensorflow==2.7.0) (3.1.0)\r\n",
      "Collecting tensorflow-io-gcs-filesystem>=0.21.0\r\n",
      "  Downloading tensorflow_io_gcs_filesystem-0.23.1-cp37-cp37m-manylinux_2_12_x86_64.manylinux2010_x86_64.whl (2.1 MB)\r\n",
      "     |████████████████████████████████| 2.1 MB 35.0 MB/s            \r\n",
      "\u001b[?25hRequirement already satisfied: absl-py>=0.4.0 in /opt/conda/lib/python3.7/site-packages (from tensorflow==2.7.0) (0.15.0)\r\n",
      "Requirement already satisfied: termcolor>=1.1.0 in /opt/conda/lib/python3.7/site-packages (from tensorflow==2.7.0) (1.1.0)\r\n",
      "Collecting tensorflow-estimator<2.8,~=2.7.0rc0\r\n",
      "  Downloading tensorflow_estimator-2.7.0-py2.py3-none-any.whl (463 kB)\r\n",
      "     |████████████████████████████████| 463 kB 57.2 MB/s            \r\n",
      "\u001b[?25hRequirement already satisfied: keras-preprocessing>=1.1.1 in /opt/conda/lib/python3.7/site-packages (from tensorflow==2.7.0) (1.1.2)\r\n",
      "Requirement already satisfied: typing-extensions>=3.6.6 in /opt/conda/lib/python3.7/site-packages (from tensorflow==2.7.0) (3.10.0.2)\r\n",
      "Requirement already satisfied: google-pasta>=0.1.1 in /opt/conda/lib/python3.7/site-packages (from tensorflow==2.7.0) (0.2.0)\r\n",
      "Collecting libclang>=9.0.1\r\n",
      "  Downloading libclang-13.0.0-py2.py3-none-manylinux1_x86_64.whl (14.5 MB)\r\n",
      "     |████████████████████████████████| 14.5 MB 62.7 MB/s            \r\n",
      "\u001b[?25hRequirement already satisfied: astunparse>=1.6.0 in /opt/conda/lib/python3.7/site-packages (from tensorflow==2.7.0) (1.6.3)\r\n",
      "Requirement already satisfied: protobuf>=3.9.2 in /opt/conda/lib/python3.7/site-packages (from tensorflow==2.7.0) (3.19.1)\r\n",
      "Requirement already satisfied: gast<0.5.0,>=0.2.1 in /opt/conda/lib/python3.7/site-packages (from tensorflow==2.7.0) (0.4.0)\r\n",
      "Requirement already satisfied: opt-einsum>=2.3.2 in /opt/conda/lib/python3.7/site-packages (from tensorflow==2.7.0) (3.3.0)\r\n",
      "Requirement already satisfied: wheel<1.0,>=0.32.0 in /opt/conda/lib/python3.7/site-packages (from tensorflow==2.7.0) (0.37.0)\r\n",
      "Requirement already satisfied: cached-property in /opt/conda/lib/python3.7/site-packages (from h5py>=2.9.0->tensorflow==2.7.0) (1.5.2)\r\n",
      "Requirement already satisfied: tensorboard-plugin-wit>=1.6.0 in /opt/conda/lib/python3.7/site-packages (from tensorboard~=2.6->tensorflow==2.7.0) (1.8.0)\r\n",
      "Requirement already satisfied: google-auth<2,>=1.6.3 in /opt/conda/lib/python3.7/site-packages (from tensorboard~=2.6->tensorflow==2.7.0) (1.35.0)\r\n",
      "Requirement already satisfied: tensorboard-data-server<0.7.0,>=0.6.0 in /opt/conda/lib/python3.7/site-packages (from tensorboard~=2.6->tensorflow==2.7.0) (0.6.1)\r\n",
      "Requirement already satisfied: requests<3,>=2.21.0 in /opt/conda/lib/python3.7/site-packages (from tensorboard~=2.6->tensorflow==2.7.0) (2.26.0)\r\n",
      "Requirement already satisfied: werkzeug>=0.11.15 in /opt/conda/lib/python3.7/site-packages (from tensorboard~=2.6->tensorflow==2.7.0) (2.0.2)\r\n",
      "Requirement already satisfied: setuptools>=41.0.0 in /opt/conda/lib/python3.7/site-packages (from tensorboard~=2.6->tensorflow==2.7.0) (59.4.0)\r\n",
      "Requirement already satisfied: markdown>=2.6.8 in /opt/conda/lib/python3.7/site-packages (from tensorboard~=2.6->tensorflow==2.7.0) (3.3.6)\r\n",
      "Requirement already satisfied: google-auth-oauthlib<0.5,>=0.4.1 in /opt/conda/lib/python3.7/site-packages (from tensorboard~=2.6->tensorflow==2.7.0) (0.4.6)\r\n",
      "Requirement already satisfied: cachetools<5.0,>=2.0.0 in /opt/conda/lib/python3.7/site-packages (from google-auth<2,>=1.6.3->tensorboard~=2.6->tensorflow==2.7.0) (4.2.4)\r\n",
      "Requirement already satisfied: rsa<5,>=3.1.4 in /opt/conda/lib/python3.7/site-packages (from google-auth<2,>=1.6.3->tensorboard~=2.6->tensorflow==2.7.0) (4.8)\r\n",
      "Requirement already satisfied: pyasn1-modules>=0.2.1 in /opt/conda/lib/python3.7/site-packages (from google-auth<2,>=1.6.3->tensorboard~=2.6->tensorflow==2.7.0) (0.2.7)\r\n",
      "Requirement already satisfied: requests-oauthlib>=0.7.0 in /opt/conda/lib/python3.7/site-packages (from google-auth-oauthlib<0.5,>=0.4.1->tensorboard~=2.6->tensorflow==2.7.0) (1.3.0)\r\n",
      "Requirement already satisfied: importlib-metadata>=4.4 in /opt/conda/lib/python3.7/site-packages (from markdown>=2.6.8->tensorboard~=2.6->tensorflow==2.7.0) (4.10.0)\r\n",
      "Requirement already satisfied: urllib3<1.27,>=1.21.1 in /opt/conda/lib/python3.7/site-packages (from requests<3,>=2.21.0->tensorboard~=2.6->tensorflow==2.7.0) (1.26.7)\r\n",
      "Requirement already satisfied: certifi>=2017.4.17 in /opt/conda/lib/python3.7/site-packages (from requests<3,>=2.21.0->tensorboard~=2.6->tensorflow==2.7.0) (2021.10.8)\r\n",
      "Requirement already satisfied: charset-normalizer~=2.0.0 in /opt/conda/lib/python3.7/site-packages (from requests<3,>=2.21.0->tensorboard~=2.6->tensorflow==2.7.0) (2.0.8)\r\n",
      "Requirement already satisfied: idna<4,>=2.5 in /opt/conda/lib/python3.7/site-packages (from requests<3,>=2.21.0->tensorboard~=2.6->tensorflow==2.7.0) (3.1)\r\n",
      "Requirement already satisfied: zipp>=0.5 in /opt/conda/lib/python3.7/site-packages (from importlib-metadata>=4.4->markdown>=2.6.8->tensorboard~=2.6->tensorflow==2.7.0) (3.6.0)\r\n",
      "Requirement already satisfied: pyasn1<0.5.0,>=0.4.6 in /opt/conda/lib/python3.7/site-packages (from pyasn1-modules>=0.2.1->google-auth<2,>=1.6.3->tensorboard~=2.6->tensorflow==2.7.0) (0.4.8)\r\n",
      "Requirement already satisfied: oauthlib>=3.0.0 in /opt/conda/lib/python3.7/site-packages (from requests-oauthlib>=0.7.0->google-auth-oauthlib<0.5,>=0.4.1->tensorboard~=2.6->tensorflow==2.7.0) (3.1.1)\r\n",
      "Installing collected packages: tensorflow-io-gcs-filesystem, tensorflow-estimator, libclang, keras, tensorflow\r\n",
      "  Attempting uninstall: tensorflow-estimator\r\n",
      "    Found existing installation: tensorflow-estimator 2.6.0\r\n",
      "    Uninstalling tensorflow-estimator-2.6.0:\r\n",
      "      Successfully uninstalled tensorflow-estimator-2.6.0\r\n",
      "  Attempting uninstall: keras\r\n",
      "    Found existing installation: keras 2.6.0\r\n",
      "    Uninstalling keras-2.6.0:\r\n",
      "      Successfully uninstalled keras-2.6.0\r\n",
      "  Attempting uninstall: tensorflow\r\n",
      "    Found existing installation: tensorflow 2.6.2\r\n",
      "    Uninstalling tensorflow-2.6.2:\r\n",
      "      Successfully uninstalled tensorflow-2.6.2\r\n",
      "\u001b[31mERROR: pip's dependency resolver does not currently take into account all the packages that are installed. This behaviour is the source of the following dependency conflicts.\r\n",
      "explainable-ai-sdk 1.3.2 requires xai-image-widget, which is not installed.\r\n",
      "tfx-bsl 1.4.0 requires absl-py<0.13,>=0.9, but you have absl-py 0.15.0 which is incompatible.\r\n",
      "tfx-bsl 1.4.0 requires pyarrow<6,>=1, but you have pyarrow 6.0.1 which is incompatible.\r\n",
      "tfx-bsl 1.4.0 requires tensorflow-metadata<1.5,>=1.4, but you have tensorflow-metadata 1.5.0 which is incompatible.\r\n",
      "tensorflow-transform 1.4.0 requires absl-py<0.13,>=0.9, but you have absl-py 0.15.0 which is incompatible.\r\n",
      "tensorflow-transform 1.4.0 requires pyarrow<6,>=1, but you have pyarrow 6.0.1 which is incompatible.\r\n",
      "tensorflow-transform 1.4.0 requires tensorflow!=2.0.*,!=2.1.*,!=2.2.*,!=2.3.*,!=2.4.*,!=2.5.*,<2.7,>=1.15.2, but you have tensorflow 2.7.0 which is incompatible.\r\n",
      "tensorflow-transform 1.4.0 requires tensorflow-metadata<1.5.0,>=1.4.0, but you have tensorflow-metadata 1.5.0 which is incompatible.\r\n",
      "tensorflow-io 0.21.0 requires tensorflow<2.7.0,>=2.6.0, but you have tensorflow 2.7.0 which is incompatible.\r\n",
      "tensorflow-io 0.21.0 requires tensorflow-io-gcs-filesystem==0.21.0, but you have tensorflow-io-gcs-filesystem 0.23.1 which is incompatible.\u001b[0m\r\n",
      "Successfully installed keras-2.7.0 libclang-13.0.0 tensorflow-2.7.0 tensorflow-estimator-2.7.0 tensorflow-io-gcs-filesystem-0.23.1\r\n",
      "\u001b[33mWARNING: Running pip as the 'root' user can result in broken permissions and conflicting behaviour with the system package manager. It is recommended to use a virtual environment instead: https://pip.pypa.io/warnings/venv\u001b[0m\r\n",
      "Collecting scikeras\r\n",
      "  Downloading scikeras-0.6.0-py3-none-any.whl (27 kB)\r\n",
      "Collecting importlib-metadata<4,>=3\r\n",
      "  Downloading importlib_metadata-3.10.1-py3-none-any.whl (14 kB)\r\n",
      "Collecting scikit-learn>=1.0.0\r\n",
      "  Downloading scikit_learn-1.0.2-cp37-cp37m-manylinux_2_17_x86_64.manylinux2014_x86_64.whl (24.8 MB)\r\n",
      "     |████████████████████████████████| 24.8 MB 614 kB/s            \r\n",
      "\u001b[?25hRequirement already satisfied: packaging<22.0,>=0.21 in /opt/conda/lib/python3.7/site-packages (from scikeras) (21.3)\r\n",
      "Requirement already satisfied: zipp>=0.5 in /opt/conda/lib/python3.7/site-packages (from importlib-metadata<4,>=3->scikeras) (3.6.0)\r\n",
      "Requirement already satisfied: typing-extensions>=3.6.4 in /opt/conda/lib/python3.7/site-packages (from importlib-metadata<4,>=3->scikeras) (3.10.0.2)\r\n",
      "Requirement already satisfied: pyparsing!=3.0.5,>=2.0.2 in /opt/conda/lib/python3.7/site-packages (from packaging<22.0,>=0.21->scikeras) (3.0.6)\r\n",
      "Requirement already satisfied: numpy>=1.14.6 in /opt/conda/lib/python3.7/site-packages (from scikit-learn>=1.0.0->scikeras) (1.19.5)\r\n",
      "Requirement already satisfied: scipy>=1.1.0 in /opt/conda/lib/python3.7/site-packages (from scikit-learn>=1.0.0->scikeras) (1.7.3)\r\n",
      "Requirement already satisfied: threadpoolctl>=2.0.0 in /opt/conda/lib/python3.7/site-packages (from scikit-learn>=1.0.0->scikeras) (3.0.0)\r\n",
      "Requirement already satisfied: joblib>=0.11 in /opt/conda/lib/python3.7/site-packages (from scikit-learn>=1.0.0->scikeras) (1.1.0)\r\n",
      "Installing collected packages: scikit-learn, importlib-metadata, scikeras\r\n",
      "  Attempting uninstall: scikit-learn\r\n",
      "    Found existing installation: scikit-learn 0.23.2\r\n",
      "    Uninstalling scikit-learn-0.23.2:\r\n",
      "      Successfully uninstalled scikit-learn-0.23.2\r\n",
      "  Attempting uninstall: importlib-metadata\r\n",
      "    Found existing installation: importlib-metadata 4.10.0\r\n",
      "    Uninstalling importlib-metadata-4.10.0:\r\n",
      "      Successfully uninstalled importlib-metadata-4.10.0\r\n",
      "\u001b[31mERROR: pip's dependency resolver does not currently take into account all the packages that are installed. This behaviour is the source of the following dependency conflicts.\r\n",
      "tsfresh 0.19.0 requires statsmodels>=0.13, but you have statsmodels 0.12.2 which is incompatible.\r\n",
      "pdpbox 0.2.1 requires matplotlib==3.1.1, but you have matplotlib 3.5.1 which is incompatible.\r\n",
      "markdown 3.3.6 requires importlib-metadata>=4.4; python_version < \"3.10\", but you have importlib-metadata 3.10.1 which is incompatible.\r\n",
      "hypertools 0.7.0 requires scikit-learn!=0.22,<0.24,>=0.19.1, but you have scikit-learn 1.0.2 which is incompatible.\r\n",
      "gym 0.21.0 requires importlib-metadata>=4.8.1; python_version < \"3.8\", but you have importlib-metadata 3.10.1 which is incompatible.\u001b[0m\r\n",
      "Successfully installed importlib-metadata-3.10.1 scikeras-0.6.0 scikit-learn-1.0.2\r\n",
      "\u001b[33mWARNING: Running pip as the 'root' user can result in broken permissions and conflicting behaviour with the system package manager. It is recommended to use a virtual environment instead: https://pip.pypa.io/warnings/venv\u001b[0m\r\n"
     ]
    }
   ],
   "source": [
    "# scikeras library requires tensorflow >= 2.7.0\n",
    "!pip install -U tensorflow==2.7.0\n",
    "!pip install -U scikeras"
   ]
  },
  {
   "cell_type": "code",
   "execution_count": 2,
   "id": "99cf2c28",
   "metadata": {
    "execution": {
     "iopub.execute_input": "2022-02-04T17:30:13.659232Z",
     "iopub.status.busy": "2022-02-04T17:30:13.658288Z",
     "iopub.status.idle": "2022-02-04T17:30:19.163079Z",
     "shell.execute_reply": "2022-02-04T17:30:19.163526Z",
     "shell.execute_reply.started": "2022-02-02T14:43:37.732434Z"
    },
    "papermill": {
     "duration": 5.757003,
     "end_time": "2022-02-04T17:30:19.163709",
     "exception": false,
     "start_time": "2022-02-04T17:30:13.406706",
     "status": "completed"
    },
    "tags": []
   },
   "outputs": [
    {
     "name": "stderr",
     "output_type": "stream",
     "text": [
      "2022-02-04 17:30:14.889432: W tensorflow/stream_executor/platform/default/dso_loader.cc:64] Could not load dynamic library 'libcudart.so.11.0'; dlerror: libcudart.so.11.0: cannot open shared object file: No such file or directory; LD_LIBRARY_PATH: /usr/local/cuda/lib64:/usr/local/cuda/lib:/usr/local/lib/x86_64-linux-gnu:/usr/local/nvidia/lib:/usr/local/nvidia/lib64:\n",
      "2022-02-04 17:30:14.889484: I tensorflow/stream_executor/cuda/cudart_stub.cc:29] Ignore above cudart dlerror if you do not have a GPU set up on your machine.\n"
     ]
    },
    {
     "data": {
      "text/html": [
       "<style type='text/css'>\n",
       ".datatable table.frame { margin-bottom: 0; }\n",
       ".datatable table.frame thead { border-bottom: none; }\n",
       ".datatable table.frame tr.coltypes td {  color: #FFFFFF;  line-height: 6px;  padding: 0 0.5em;}\n",
       ".datatable .bool    { background: #DDDD99; }\n",
       ".datatable .object  { background: #565656; }\n",
       ".datatable .int     { background: #5D9E5D; }\n",
       ".datatable .float   { background: #4040CC; }\n",
       ".datatable .str     { background: #CC4040; }\n",
       ".datatable .time    { background: #40CC40; }\n",
       ".datatable .row_index {  background: var(--jp-border-color3);  border-right: 1px solid var(--jp-border-color0);  color: var(--jp-ui-font-color3);  font-size: 9px;}\n",
       ".datatable .frame tbody td { text-align: left; }\n",
       ".datatable .frame tr.coltypes .row_index {  background: var(--jp-border-color0);}\n",
       ".datatable th:nth-child(2) { padding-left: 12px; }\n",
       ".datatable .hellipsis {  color: var(--jp-cell-editor-border-color);}\n",
       ".datatable .vellipsis {  background: var(--jp-layout-color0);  color: var(--jp-cell-editor-border-color);}\n",
       ".datatable .na {  color: var(--jp-cell-editor-border-color);  font-size: 80%;}\n",
       ".datatable .sp {  opacity: 0.25;}\n",
       ".datatable .footer { font-size: 9px; }\n",
       ".datatable .frame_dimensions {  background: var(--jp-border-color3);  border-top: 1px solid var(--jp-border-color0);  color: var(--jp-ui-font-color3);  display: inline-block;  opacity: 0.6;  padding: 1px 10px 1px 5px;}\n",
       "</style>\n"
      ],
      "text/plain": [
       "<IPython.core.display.HTML object>"
      ]
     },
     "metadata": {},
     "output_type": "display_data"
    }
   ],
   "source": [
    "# load packages\n",
    "import re\n",
    "import matplotlib.pyplot as plt\n",
    "import seaborn as sns\n",
    "\n",
    "import numpy as np\n",
    "import pandas as pd\n",
    "pd.set_option('mode.chained_assignment',  None)\n",
    "\n",
    "from sklearn.model_selection import train_test_split\n",
    "from sklearn.impute import SimpleImputer\n",
    "from sklearn.preprocessing import MinMaxScaler\n",
    "from sklearn.metrics import confusion_matrix, roc_curve, precision_recall_curve\n",
    "from tensorflow import keras\n",
    "from scikeras.wrappers import KerasClassifier\n",
    "\n",
    "import eli5\n",
    "from eli5.sklearn import PermutationImportance"
   ]
  },
  {
   "cell_type": "code",
   "execution_count": 3,
   "id": "9d2fbf82",
   "metadata": {
    "execution": {
     "iopub.execute_input": "2022-02-04T17:30:19.664794Z",
     "iopub.status.busy": "2022-02-04T17:30:19.663784Z",
     "iopub.status.idle": "2022-02-04T17:30:32.124732Z",
     "shell.execute_reply": "2022-02-04T17:30:32.123740Z",
     "shell.execute_reply.started": "2022-02-02T14:43:37.740781Z"
    },
    "papermill": {
     "duration": 12.71255,
     "end_time": "2022-02-04T17:30:32.124897",
     "exception": false,
     "start_time": "2022-02-04T17:30:19.412347",
     "status": "completed"
    },
    "tags": []
   },
   "outputs": [
    {
     "name": "stderr",
     "output_type": "stream",
     "text": [
      "/opt/conda/lib/python3.7/site-packages/IPython/core/interactiveshell.py:3457: DtypeWarning: Columns (19,55) have mixed types.Specify dtype option on import or set low_memory=False.\n",
      "  exec(code_obj, self.user_global_ns, self.user_ns)\n"
     ]
    }
   ],
   "source": [
    "file_path = \"../input/credit-risk-dataset/loan/loan.csv\"\n",
    "df = pd.read_csv(file_path, index_col=[0])"
   ]
  },
  {
   "cell_type": "markdown",
   "id": "e2d58125",
   "metadata": {
    "id": "n74XZ6Fdjz1u",
    "papermill": {
     "duration": 0.24366,
     "end_time": "2022-02-04T17:30:32.616670",
     "exception": false,
     "start_time": "2022-02-04T17:30:32.373010",
     "status": "completed"
    },
    "tags": []
   },
   "source": [
    "## Data Cleaning and Formatting\n",
    "\n",
    "There are 74 features in this dataset, and many of them show minor usability (mostly filled with NaNs, no variance, or duplicated to another). So I manually filtered the features that I found the most useful."
   ]
  },
  {
   "cell_type": "code",
   "execution_count": 4,
   "id": "3c57b44e",
   "metadata": {
    "execution": {
     "iopub.execute_input": "2022-02-04T17:30:33.114343Z",
     "iopub.status.busy": "2022-02-04T17:30:33.113719Z",
     "iopub.status.idle": "2022-02-04T17:30:33.119191Z",
     "shell.execute_reply": "2022-02-04T17:30:33.118586Z",
     "shell.execute_reply.started": "2022-02-02T14:43:48.582352Z"
    },
    "id": "tDaaxpphjtP_",
    "outputId": "0596d54c-a29b-4136-acf7-824a48d56e9c",
    "papermill": {
     "duration": 0.258251,
     "end_time": "2022-02-04T17:30:33.119332",
     "exception": false,
     "start_time": "2022-02-04T17:30:32.861081",
     "status": "completed"
    },
    "tags": []
   },
   "outputs": [
    {
     "data": {
      "text/plain": [
       "Index(['member_id', 'loan_amnt', 'funded_amnt', 'funded_amnt_inv', 'term',\n",
       "       'int_rate', 'installment', 'grade', 'sub_grade', 'emp_title',\n",
       "       'emp_length', 'home_ownership', 'annual_inc', 'verification_status',\n",
       "       'issue_d', 'loan_status', 'pymnt_plan', 'url', 'desc', 'purpose',\n",
       "       'title', 'zip_code', 'addr_state', 'dti', 'delinq_2yrs',\n",
       "       'earliest_cr_line', 'inq_last_6mths', 'mths_since_last_delinq',\n",
       "       'mths_since_last_record', 'open_acc', 'pub_rec', 'revol_bal',\n",
       "       'revol_util', 'total_acc', 'initial_list_status', 'out_prncp',\n",
       "       'out_prncp_inv', 'total_pymnt', 'total_pymnt_inv', 'total_rec_prncp',\n",
       "       'total_rec_int', 'total_rec_late_fee', 'recoveries',\n",
       "       'collection_recovery_fee', 'last_pymnt_d', 'last_pymnt_amnt',\n",
       "       'next_pymnt_d', 'last_credit_pull_d', 'collections_12_mths_ex_med',\n",
       "       'mths_since_last_major_derog', 'policy_code', 'application_type',\n",
       "       'annual_inc_joint', 'dti_joint', 'verification_status_joint',\n",
       "       'acc_now_delinq', 'tot_coll_amt', 'tot_cur_bal', 'open_acc_6m',\n",
       "       'open_il_6m', 'open_il_12m', 'open_il_24m', 'mths_since_rcnt_il',\n",
       "       'total_bal_il', 'il_util', 'open_rv_12m', 'open_rv_24m', 'max_bal_bc',\n",
       "       'all_util', 'total_rev_hi_lim', 'inq_fi', 'total_cu_tl',\n",
       "       'inq_last_12m'],\n",
       "      dtype='object')"
      ]
     },
     "execution_count": 4,
     "metadata": {},
     "output_type": "execute_result"
    }
   ],
   "source": [
    "df.keys()"
   ]
  },
  {
   "cell_type": "markdown",
   "id": "a0468cdf",
   "metadata": {
    "id": "75nazHlkmGbd",
    "papermill": {
     "duration": 0.24568,
     "end_time": "2022-02-04T17:30:33.609285",
     "exception": false,
     "start_time": "2022-02-04T17:30:33.363605",
     "status": "completed"
    },
    "tags": []
   },
   "source": [
    "### Initial feature filtering"
   ]
  },
  {
   "cell_type": "code",
   "execution_count": 5,
   "id": "7ca741c8",
   "metadata": {
    "execution": {
     "iopub.execute_input": "2022-02-04T17:30:34.107390Z",
     "iopub.status.busy": "2022-02-04T17:30:34.106351Z",
     "iopub.status.idle": "2022-02-04T17:30:34.225227Z",
     "shell.execute_reply": "2022-02-04T17:30:34.224684Z",
     "shell.execute_reply.started": "2022-02-02T14:43:48.59175Z"
    },
    "id": "eHk4vhv7mEUM",
    "outputId": "c31c1a3e-9805-4250-8d5c-8079da36722f",
    "papermill": {
     "duration": 0.368876,
     "end_time": "2022-02-04T17:30:34.225378",
     "exception": false,
     "start_time": "2022-02-04T17:30:33.856502",
     "status": "completed"
    },
    "tags": []
   },
   "outputs": [],
   "source": [
    "attribs_to_use = [\n",
    "    'funded_amnt',          # actual amount funded to loans\n",
    "    'term',                 # number of payments (month)\n",
    "    'int_rate',             # interest rate\n",
    "    'installment',          # monthly payment \n",
    "    'sub_grade',            # credit rating\n",
    "    'emp_length',           # number of years of employment\n",
    "    'home_ownership',       # home ownership status of each borrower\n",
    "    'issue_d',              # the month which the loan was funded\n",
    "    'loan_status',          # current status of the loan (=target variable)\n",
    "    'purpose',              # purpose of the loan\n",
    "    'dti',                  # debt to monthly income ratio\n",
    "    'delinq_2yrs',          # number of 30+ days past-due incidences for last two years\n",
    "    'earliest_cr_line',     # date each borrower's earliest reported credit line was opened\n",
    "    'inq_last_6mths',       # number of inquiries in past 6 months\n",
    "    'total_acc',            # total number of credit lines \n",
    "    'pub_rec',              # number of derogatory public records\n",
    "    'revol_bal',            # total credit revolving balance\n",
    "    'revol_util',           # total revolving utilization rate \n",
    "    'total_rec_late_fee',   # late fees received to date \n",
    "    'recoveries',           # post charge off gross recovery\n",
    "    'last_pymnt_d',         # last month payment was received\n",
    "    'last_pymnt_amnt',      # last month payment amount\n",
    "    'last_credit_pull_d',   # the most recent month LC pulled credit for this loan\n",
    "    'acc_now_delinq',       # number of delinquent accounts\n",
    "    'total_pymnt',          # total payments received to date\n",
    "    'annual_inc'\n",
    "]\n",
    "\n",
    "df_filter = df[attribs_to_use]"
   ]
  },
  {
   "cell_type": "code",
   "execution_count": 6,
   "id": "67e02425",
   "metadata": {
    "execution": {
     "iopub.execute_input": "2022-02-04T17:30:34.724477Z",
     "iopub.status.busy": "2022-02-04T17:30:34.723475Z",
     "iopub.status.idle": "2022-02-04T17:30:34.728209Z",
     "shell.execute_reply": "2022-02-04T17:30:34.727734Z",
     "shell.execute_reply.started": "2022-02-02T14:43:48.731341Z"
    },
    "papermill": {
     "duration": 0.256006,
     "end_time": "2022-02-04T17:30:34.728351",
     "exception": false,
     "start_time": "2022-02-04T17:30:34.472345",
     "status": "completed"
    },
    "tags": []
   },
   "outputs": [
    {
     "data": {
      "text/plain": [
       "(887379, 26)"
      ]
     },
     "execution_count": 6,
     "metadata": {},
     "output_type": "execute_result"
    }
   ],
   "source": [
    "df_filter.shape"
   ]
  },
  {
   "cell_type": "markdown",
   "id": "c509d373",
   "metadata": {
    "id": "1tXSltBDmZek",
    "papermill": {
     "duration": 0.246397,
     "end_time": "2022-02-04T17:30:35.228133",
     "exception": false,
     "start_time": "2022-02-04T17:30:34.981736",
     "status": "completed"
    },
    "tags": []
   },
   "source": [
    "### Format dates"
   ]
  },
  {
   "cell_type": "code",
   "execution_count": 7,
   "id": "366e8a45",
   "metadata": {
    "execution": {
     "iopub.execute_input": "2022-02-04T17:30:35.744517Z",
     "iopub.status.busy": "2022-02-04T17:30:35.742783Z",
     "iopub.status.idle": "2022-02-04T17:30:36.991143Z",
     "shell.execute_reply": "2022-02-04T17:30:36.990546Z",
     "shell.execute_reply.started": "2022-02-02T14:43:48.738184Z"
    },
    "id": "qYpa_wOgmXrB",
    "outputId": "5f4bcb71-6966-41f9-8ce0-b684d7494dee",
    "papermill": {
     "duration": 1.514157,
     "end_time": "2022-02-04T17:30:36.991278",
     "exception": false,
     "start_time": "2022-02-04T17:30:35.477121",
     "status": "completed"
    },
    "tags": []
   },
   "outputs": [
    {
     "data": {
      "text/html": [
       "<div>\n",
       "<style scoped>\n",
       "    .dataframe tbody tr th:only-of-type {\n",
       "        vertical-align: middle;\n",
       "    }\n",
       "\n",
       "    .dataframe tbody tr th {\n",
       "        vertical-align: top;\n",
       "    }\n",
       "\n",
       "    .dataframe thead th {\n",
       "        text-align: right;\n",
       "    }\n",
       "</style>\n",
       "<table border=\"1\" class=\"dataframe\">\n",
       "  <thead>\n",
       "    <tr style=\"text-align: right;\">\n",
       "      <th></th>\n",
       "      <th>issue_d</th>\n",
       "      <th>earliest_cr_line</th>\n",
       "      <th>last_pymnt_d</th>\n",
       "      <th>last_credit_pull_d</th>\n",
       "    </tr>\n",
       "  </thead>\n",
       "  <tbody>\n",
       "    <tr>\n",
       "      <th>0</th>\n",
       "      <td>2011-12-01</td>\n",
       "      <td>1985-01-01</td>\n",
       "      <td>2015-01-01</td>\n",
       "      <td>2016-01-01</td>\n",
       "    </tr>\n",
       "    <tr>\n",
       "      <th>1</th>\n",
       "      <td>2011-12-01</td>\n",
       "      <td>1999-04-01</td>\n",
       "      <td>2013-04-01</td>\n",
       "      <td>2013-09-01</td>\n",
       "    </tr>\n",
       "    <tr>\n",
       "      <th>2</th>\n",
       "      <td>2011-12-01</td>\n",
       "      <td>2001-11-01</td>\n",
       "      <td>2014-06-01</td>\n",
       "      <td>2016-01-01</td>\n",
       "    </tr>\n",
       "    <tr>\n",
       "      <th>3</th>\n",
       "      <td>2011-12-01</td>\n",
       "      <td>1996-02-01</td>\n",
       "      <td>2015-01-01</td>\n",
       "      <td>2015-01-01</td>\n",
       "    </tr>\n",
       "    <tr>\n",
       "      <th>4</th>\n",
       "      <td>2011-12-01</td>\n",
       "      <td>1996-01-01</td>\n",
       "      <td>2016-01-01</td>\n",
       "      <td>2016-01-01</td>\n",
       "    </tr>\n",
       "  </tbody>\n",
       "</table>\n",
       "</div>"
      ],
      "text/plain": [
       "     issue_d earliest_cr_line last_pymnt_d last_credit_pull_d\n",
       "0 2011-12-01       1985-01-01   2015-01-01         2016-01-01\n",
       "1 2011-12-01       1999-04-01   2013-04-01         2013-09-01\n",
       "2 2011-12-01       2001-11-01   2014-06-01         2016-01-01\n",
       "3 2011-12-01       1996-02-01   2015-01-01         2015-01-01\n",
       "4 2011-12-01       1996-01-01   2016-01-01         2016-01-01"
      ]
     },
     "execution_count": 7,
     "metadata": {},
     "output_type": "execute_result"
    }
   ],
   "source": [
    "# select date columns\n",
    "date_columns = [\n",
    "    'issue_d', \n",
    "    'earliest_cr_line', \n",
    "    'last_pymnt_d', \n",
    "    'last_credit_pull_d'\n",
    "]\n",
    "\n",
    "# drop rows whose date is NaN\n",
    "df_filter = df_filter.dropna(subset=date_columns)\n",
    "df_filter = df_filter.reset_index(drop=True)\n",
    "\n",
    "# format dates\n",
    "for col in date_columns:\n",
    "    df_filter.loc[:, col] = pd.to_datetime(df_filter[col])\n",
    "\n",
    "df_filter[date_columns].head()"
   ]
  },
  {
   "cell_type": "markdown",
   "id": "093d2734",
   "metadata": {
    "id": "EMz5mSnGuAFz",
    "papermill": {
     "duration": 0.249965,
     "end_time": "2022-02-04T17:30:37.488006",
     "exception": false,
     "start_time": "2022-02-04T17:30:37.238041",
     "status": "completed"
    },
    "tags": []
   },
   "source": [
    "### Format target variable\n",
    "\n",
    "The `loan_status` is the target variable here containing ten different classes with an imbalanced number of observations. Since this project aims to build a classifier to find defaultable accounts in advance, I prefered to divide them into two groups."
   ]
  },
  {
   "cell_type": "code",
   "execution_count": 8,
   "id": "cea497c9",
   "metadata": {
    "execution": {
     "iopub.execute_input": "2022-02-04T17:30:37.985981Z",
     "iopub.status.busy": "2022-02-04T17:30:37.985326Z",
     "iopub.status.idle": "2022-02-04T17:30:38.369724Z",
     "shell.execute_reply": "2022-02-04T17:30:38.370280Z",
     "shell.execute_reply.started": "2022-02-02T14:43:50.472988Z"
    },
    "id": "yAZMzEm3vFls",
    "outputId": "acc8ef2f-7391-437c-c974-c7dbd68fa1c0",
    "papermill": {
     "duration": 0.637707,
     "end_time": "2022-02-04T17:30:38.370444",
     "exception": false,
     "start_time": "2022-02-04T17:30:37.732737",
     "status": "completed"
    },
    "tags": []
   },
   "outputs": [
    {
     "data": {
      "image/png": "[encoded data removed]",
      "text/plain": [
       "<Figure size 720x576 with 1 Axes>"
      ]
     },
     "metadata": {
      "needs_background": "light"
     },
     "output_type": "display_data"
    }
   ],
   "source": [
    "plt.figure(figsize=(10,8))\n",
    "\n",
    "ax = df_filter['loan_status'].value_counts().sort_values().plot.barh(edgecolor='black', grid=False, fontsize=12)\n",
    "\n",
    "for p in ax.patches:\n",
    "    width = p.get_width()\n",
    "    ax.text(width+5000, p.get_y(), '{:.2%}'.format(width/len(df_filter)), ha='left', va='bottom', fontsize=14)\n",
    "\n",
    "sns.despine()    "
   ]
  },
  {
   "cell_type": "code",
   "execution_count": 9,
   "id": "96fdbdbe",
   "metadata": {
    "execution": {
     "iopub.execute_input": "2022-02-04T17:30:38.933105Z",
     "iopub.status.busy": "2022-02-04T17:30:38.931884Z",
     "iopub.status.idle": "2022-02-04T17:30:40.045080Z",
     "shell.execute_reply": "2022-02-04T17:30:40.045542Z",
     "shell.execute_reply.started": "2022-02-02T14:43:50.913774Z"
    },
    "id": "B-phMX7HvFjd",
    "outputId": "e67bb2ed-f7d6-4b3c-e46e-a47846a00e6f",
    "papermill": {
     "duration": 1.420748,
     "end_time": "2022-02-04T17:30:40.045711",
     "exception": false,
     "start_time": "2022-02-04T17:30:38.624963",
     "status": "completed"
    },
    "tags": []
   },
   "outputs": [
    {
     "name": "stdout",
     "output_type": "stream",
     "text": [
      "Examples:\n",
      "    Total: 869592\n",
      "    Positive: 66498 (7.65% of total)\n",
      "\n"
     ]
    }
   ],
   "source": [
    "# removed the 'Issued' class since these loans just got approved and have not begun any repayment processes yet\n",
    "issue = df_filter['loan_status'] == 'Issued'\n",
    "df_filter_issue = df_filter[~issue]\n",
    "\n",
    "# binary classification\n",
    "label_categories = [\n",
    "    (0, ['Fully Paid', 'Does not meet the credit policy. Status:Fully Paid', 'Current']),\n",
    "    (1, ['Late (31-120 days)', 'Late (16-30 days)', 'In Grace Period', \n",
    "         'Charged Off', 'Default', 'Does not meet the credit policy. Status:Charged Off'])\n",
    "]\n",
    "\n",
    "# function to apply the transformation\n",
    "def classify_label(text):\n",
    "    for category, matches in label_categories:\n",
    "        if any(match in text for match in matches):\n",
    "            return category\n",
    "    return None\n",
    "\n",
    "df_filter_issue.loc[:, 'label'] = df_filter_issue['loan_status'].apply(classify_label)\n",
    "df_filter_issue = df_filter_issue.drop('loan_status', axis=1)\n",
    "\n",
    "# check label classes imbalance\n",
    "neg, pos = np.bincount(df_filter_issue['label'])\n",
    "total = neg + pos\n",
    "print('Examples:\\n    Total: {}\\n    Positive: {} ({:.2f}% of total)\\n'.format(\n",
    "    total, pos, 100 * pos / total))"
   ]
  },
  {
   "cell_type": "markdown",
   "id": "07affb6d",
   "metadata": {
    "id": "EyPKmolBna3N",
    "papermill": {
     "duration": 0.245466,
     "end_time": "2022-02-04T17:30:40.537689",
     "exception": false,
     "start_time": "2022-02-04T17:30:40.292223",
     "status": "completed"
    },
    "tags": []
   },
   "source": [
    "### Customized formatting for other columns\n",
    "\n",
    "> 1.4.1 `home_ownership`\n",
    "\n",
    "Some of categories in this data only have a few observations (`OTHER`, `NONE`, `ANY`). Simply combine them into one."
   ]
  },
  {
   "cell_type": "code",
   "execution_count": 10,
   "id": "24818603",
   "metadata": {
    "execution": {
     "iopub.execute_input": "2022-02-04T17:30:41.062852Z",
     "iopub.status.busy": "2022-02-04T17:30:41.061917Z",
     "iopub.status.idle": "2022-02-04T17:30:41.817240Z",
     "shell.execute_reply": "2022-02-04T17:30:41.817761Z",
     "shell.execute_reply.started": "2022-02-02T14:43:52.53377Z"
    },
    "id": "wG1aV0TKpECe",
    "outputId": "b60965f7-a28e-494f-e5f1-a0e54669c529",
    "papermill": {
     "duration": 1.018846,
     "end_time": "2022-02-04T17:30:41.817958",
     "exception": false,
     "start_time": "2022-02-04T17:30:40.799112",
     "status": "completed"
    },
    "tags": []
   },
   "outputs": [
    {
     "data": {
      "image/png": "[encoded data removed]",
      "text/plain": [
       "<Figure size 576x432 with 1 Axes>"
      ]
     },
     "metadata": {
      "needs_background": "light"
     },
     "output_type": "display_data"
    }
   ],
   "source": [
    "plt.figure(figsize=(8,6))\n",
    "\n",
    "ax = sns.countplot(x='home_ownership', data=df_filter_issue, edgecolor='black')\n",
    "\n",
    "for p in ax.patches:\n",
    "    height = p.get_height()\n",
    "    ax.text(p.get_x()+.4, height, '{:.2%}'.format(height/len(df_filter)), ha='center', va='bottom', fontsize=14)\n",
    "\n",
    "sns.despine()"
   ]
  },
  {
   "cell_type": "code",
   "execution_count": 11,
   "id": "dfc1c16d",
   "metadata": {
    "execution": {
     "iopub.execute_input": "2022-02-04T17:30:42.374197Z",
     "iopub.status.busy": "2022-02-04T17:30:42.373512Z",
     "iopub.status.idle": "2022-02-04T17:30:42.437141Z",
     "shell.execute_reply": "2022-02-04T17:30:42.436598Z",
     "shell.execute_reply.started": "2022-02-02T14:43:53.77472Z"
    },
    "papermill": {
     "duration": 0.363607,
     "end_time": "2022-02-04T17:30:42.437284",
     "exception": false,
     "start_time": "2022-02-04T17:30:42.073677",
     "status": "completed"
    },
    "tags": []
   },
   "outputs": [],
   "source": [
    "df_filter_issue['home_ownership'] = df_filter_issue['home_ownership'].replace(['NONE', 'ANY'], 'OTHER')"
   ]
  },
  {
   "cell_type": "markdown",
   "id": "d1d19ed5",
   "metadata": {
    "id": "khU_pR-0qLX3",
    "papermill": {
     "duration": 0.255009,
     "end_time": "2022-02-04T17:30:42.941504",
     "exception": false,
     "start_time": "2022-02-04T17:30:42.686495",
     "status": "completed"
    },
    "tags": []
   },
   "source": [
    "> 1.4.2 `emp_length`\n",
    "\n",
    "Convert it to a numeric form while keeping nan values."
   ]
  },
  {
   "cell_type": "code",
   "execution_count": 12,
   "id": "dad2bfbb",
   "metadata": {
    "execution": {
     "iopub.execute_input": "2022-02-04T17:30:43.496291Z",
     "iopub.status.busy": "2022-02-04T17:30:43.495672Z",
     "iopub.status.idle": "2022-02-04T17:30:43.502771Z",
     "shell.execute_reply": "2022-02-04T17:30:43.501725Z",
     "shell.execute_reply.started": "2022-02-02T14:43:53.974901Z"
    },
    "id": "zEHX6K_EpBi6",
    "outputId": "133820e1-3d0a-443e-96e7-babee0c615e2",
    "papermill": {
     "duration": 0.311908,
     "end_time": "2022-02-04T17:30:43.502934",
     "exception": false,
     "start_time": "2022-02-04T17:30:43.191026",
     "status": "completed"
    },
    "tags": []
   },
   "outputs": [
    {
     "data": {
      "text/plain": [
       "array(['10+ years', '< 1 year', '1 year', '3 years', '8 years', '9 years',\n",
       "       '4 years', '5 years', '6 years', '2 years', '7 years', nan],\n",
       "      dtype=object)"
      ]
     },
     "execution_count": 12,
     "metadata": {},
     "output_type": "execute_result"
    }
   ],
   "source": [
    "df_filter_issue['emp_length'].unique()"
   ]
  },
  {
   "cell_type": "code",
   "execution_count": 13,
   "id": "862f4690",
   "metadata": {
    "execution": {
     "iopub.execute_input": "2022-02-04T17:30:44.008445Z",
     "iopub.status.busy": "2022-02-04T17:30:44.007776Z",
     "iopub.status.idle": "2022-02-04T17:30:45.855962Z",
     "shell.execute_reply": "2022-02-04T17:30:45.856410Z",
     "shell.execute_reply.started": "2022-02-02T14:43:54.084288Z"
    },
    "id": "4q1LOAXBqTrw",
    "outputId": "d3c40f5e-443f-4c6e-f62a-336374fd2aa8",
    "papermill": {
     "duration": 2.101131,
     "end_time": "2022-02-04T17:30:45.856586",
     "exception": false,
     "start_time": "2022-02-04T17:30:43.755455",
     "status": "completed"
    },
    "tags": []
   },
   "outputs": [
    {
     "data": {
      "text/plain": [
       "0         10\n",
       "1          0\n",
       "2         10\n",
       "3         10\n",
       "4          1\n",
       "          ..\n",
       "869635     8\n",
       "869636    10\n",
       "869637     5\n",
       "869638     1\n",
       "869639    10\n",
       "Name: emp_length, Length: 869592, dtype: object"
      ]
     },
     "execution_count": 13,
     "metadata": {},
     "output_type": "execute_result"
    }
   ],
   "source": [
    "# copy the feature\n",
    "emp_length = df_filter_issue['emp_length'].copy()\n",
    "\n",
    "# select not null values\n",
    "emp_length_nonull = emp_length.dropna()\n",
    "\n",
    "# manually replace '< 1 year' to '0'\n",
    "emp_length_nonull = emp_length_nonull.replace('< 1 year', '0')\n",
    "\n",
    "# format the rest by removing all strings except for numbers\n",
    "emp_length_encode = [re.sub('[<years+ ]', '', txt) for txt in emp_length_nonull]\n",
    "\n",
    "# squeeze back to the original dataset\n",
    "emp_length[emp_length.notnull()] = np.squeeze(emp_length_encode)\n",
    "df_filter_issue.loc[:, 'emp_length'] = emp_length\n",
    "\n",
    "df_filter_issue['emp_length']"
   ]
  }
 ],
 "metadata": {
  "kernelspec": {
   "display_name": "Python 3",
   "language": "python",
   "name": "python3"
  },
  "language_info": {
   "codemirror_mode": {
    "name": "ipython",
    "version": 3
   },
   "file_extension": ".py",
   "mimetype": "text/x-python",
   "name": "python",
   "nbconvert_exporter": "python",
   "pygments_lexer": "ipython3",
   "version": "3.7.12"
  },
  "papermill": {
   "default_parameters": {},
   "duration": 476.042076,
   "end_time": "2022-02-04T17:36:34.766424",
   "environment_variables": {},
   "exception": null,
   "input_path": "__notebook__.ipynb",
   "output_path": "__notebook__.ipynb",
   "parameters": {},
   "start_time": "2022-02-04T17:28:38.724348",
   "version": "2.3.3"
  }
 },
 "nbformat": 4,
 "nbformat_minor": 5
}
