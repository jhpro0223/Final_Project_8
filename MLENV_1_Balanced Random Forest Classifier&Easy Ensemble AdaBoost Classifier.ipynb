{
 "cells": [
  {
   "cell_type": "code",
   "execution_count": 1,
   "id": "1f432dd4",
   "metadata": {},
   "outputs": [],
   "source": [
    "import numpy as np\n",
    "import pandas as pd\n",
    "from pathlib import Path\n",
    "from collections import Counter"
   ]
  },
  {
   "cell_type": "code",
   "execution_count": 2,
   "id": "88f4af3a",
   "metadata": {},
   "outputs": [],
   "source": [
    "from sklearn.metrics import balanced_accuracy_score\n",
    "from sklearn.metrics import confusion_matrix\n",
    "from imblearn.metrics import classification_report_imbalanced"
   ]
  },
  {
   "cell_type": "code",
   "execution_count": 3,
   "id": "3b8328ba",
   "metadata": {},
   "outputs": [
    {
     "data": {
      "text/html": [
       "<div>\n",
       "<style scoped>\n",
       "    .dataframe tbody tr th:only-of-type {\n",
       "        vertical-align: middle;\n",
       "    }\n",
       "\n",
       "    .dataframe tbody tr th {\n",
       "        vertical-align: top;\n",
       "    }\n",
       "\n",
       "    .dataframe thead th {\n",
       "        text-align: right;\n",
       "    }\n",
       "</style>\n",
       "<table border=\"1\" class=\"dataframe\">\n",
       "  <thead>\n",
       "    <tr style=\"text-align: right;\">\n",
       "      <th></th>\n",
       "      <th>loan_amnt</th>\n",
       "      <th>term</th>\n",
       "      <th>int_rate</th>\n",
       "      <th>emp_length</th>\n",
       "      <th>home_ownership</th>\n",
       "      <th>annual_inc</th>\n",
       "      <th>verification_status</th>\n",
       "      <th>purpose</th>\n",
       "      <th>grades_value</th>\n",
       "      <th>label</th>\n",
       "    </tr>\n",
       "  </thead>\n",
       "  <tbody>\n",
       "    <tr>\n",
       "      <th>0</th>\n",
       "      <td>5.0</td>\n",
       "      <td>0</td>\n",
       "      <td>10.65</td>\n",
       "      <td>12</td>\n",
       "      <td>1</td>\n",
       "      <td>24.000</td>\n",
       "      <td>2</td>\n",
       "      <td>1</td>\n",
       "      <td>5</td>\n",
       "      <td>0.0</td>\n",
       "    </tr>\n",
       "    <tr>\n",
       "      <th>1</th>\n",
       "      <td>2.5</td>\n",
       "      <td>0</td>\n",
       "      <td>15.27</td>\n",
       "      <td>1</td>\n",
       "      <td>1</td>\n",
       "      <td>30.000</td>\n",
       "      <td>1</td>\n",
       "      <td>6</td>\n",
       "      <td>4</td>\n",
       "      <td>1.0</td>\n",
       "    </tr>\n",
       "    <tr>\n",
       "      <th>2</th>\n",
       "      <td>2.4</td>\n",
       "      <td>0</td>\n",
       "      <td>15.96</td>\n",
       "      <td>12</td>\n",
       "      <td>1</td>\n",
       "      <td>12.252</td>\n",
       "      <td>0</td>\n",
       "      <td>8</td>\n",
       "      <td>4</td>\n",
       "      <td>0.0</td>\n",
       "    </tr>\n",
       "    <tr>\n",
       "      <th>3</th>\n",
       "      <td>10.0</td>\n",
       "      <td>0</td>\n",
       "      <td>13.49</td>\n",
       "      <td>12</td>\n",
       "      <td>1</td>\n",
       "      <td>49.200</td>\n",
       "      <td>1</td>\n",
       "      <td>0</td>\n",
       "      <td>4</td>\n",
       "      <td>0.0</td>\n",
       "    </tr>\n",
       "    <tr>\n",
       "      <th>4</th>\n",
       "      <td>3.0</td>\n",
       "      <td>0</td>\n",
       "      <td>12.69</td>\n",
       "      <td>2</td>\n",
       "      <td>1</td>\n",
       "      <td>80.000</td>\n",
       "      <td>1</td>\n",
       "      <td>0</td>\n",
       "      <td>5</td>\n",
       "      <td>0.0</td>\n",
       "    </tr>\n",
       "  </tbody>\n",
       "</table>\n",
       "</div>"
      ],
      "text/plain": [
       "   loan_amnt  term  int_rate  emp_length  home_ownership  annual_inc  \\\n",
       "0        5.0     0     10.65          12               1      24.000   \n",
       "1        2.5     0     15.27           1               1      30.000   \n",
       "2        2.4     0     15.96          12               1      12.252   \n",
       "3       10.0     0     13.49          12               1      49.200   \n",
       "4        3.0     0     12.69           2               1      80.000   \n",
       "\n",
       "   verification_status  purpose  grades_value  label  \n",
       "0                    2        1             5    0.0  \n",
       "1                    1        6             4    1.0  \n",
       "2                    0        8             4    0.0  \n",
       "3                    1        0             4    0.0  \n",
       "4                    1        0             5    0.0  "
      ]
     },
     "execution_count": 3,
     "metadata": {},
     "output_type": "execute_result"
    }
   ],
   "source": [
    "file_path = \"out.csv\"\n",
    "df = pd.read_csv(file_path)\n",
    "df = df.drop(\"Unnamed: 0\",axis = 1)\n",
    "df.head()"
   ]
  },
  {
   "cell_type": "code",
   "execution_count": 4,
   "id": "2c619562",
   "metadata": {},
   "outputs": [],
   "source": [
    "target = [\"label\"]"
   ]
  },
  {
   "cell_type": "code",
   "execution_count": 5,
   "id": "981d6a81",
   "metadata": {},
   "outputs": [
    {
     "data": {
      "text/html": [
       "<div>\n",
       "<style scoped>\n",
       "    .dataframe tbody tr th:only-of-type {\n",
       "        vertical-align: middle;\n",
       "    }\n",
       "\n",
       "    .dataframe tbody tr th {\n",
       "        vertical-align: top;\n",
       "    }\n",
       "\n",
       "    .dataframe thead th {\n",
       "        text-align: right;\n",
       "    }\n",
       "</style>\n",
       "<table border=\"1\" class=\"dataframe\">\n",
       "  <thead>\n",
       "    <tr style=\"text-align: right;\">\n",
       "      <th></th>\n",
       "      <th>loan_amnt</th>\n",
       "      <th>term</th>\n",
       "      <th>int_rate</th>\n",
       "      <th>emp_length</th>\n",
       "      <th>home_ownership</th>\n",
       "      <th>annual_inc</th>\n",
       "      <th>verification_status</th>\n",
       "      <th>purpose</th>\n",
       "      <th>grades_value</th>\n",
       "      <th>label</th>\n",
       "    </tr>\n",
       "  </thead>\n",
       "  <tbody>\n",
       "    <tr>\n",
       "      <th>0</th>\n",
       "      <td>5.0</td>\n",
       "      <td>0</td>\n",
       "      <td>10.65</td>\n",
       "      <td>12</td>\n",
       "      <td>1</td>\n",
       "      <td>24.000</td>\n",
       "      <td>2</td>\n",
       "      <td>1</td>\n",
       "      <td>5</td>\n",
       "      <td>0.0</td>\n",
       "    </tr>\n",
       "    <tr>\n",
       "      <th>1</th>\n",
       "      <td>2.5</td>\n",
       "      <td>0</td>\n",
       "      <td>15.27</td>\n",
       "      <td>1</td>\n",
       "      <td>1</td>\n",
       "      <td>30.000</td>\n",
       "      <td>1</td>\n",
       "      <td>6</td>\n",
       "      <td>4</td>\n",
       "      <td>1.0</td>\n",
       "    </tr>\n",
       "    <tr>\n",
       "      <th>2</th>\n",
       "      <td>2.4</td>\n",
       "      <td>0</td>\n",
       "      <td>15.96</td>\n",
       "      <td>12</td>\n",
       "      <td>1</td>\n",
       "      <td>12.252</td>\n",
       "      <td>0</td>\n",
       "      <td>8</td>\n",
       "      <td>4</td>\n",
       "      <td>0.0</td>\n",
       "    </tr>\n",
       "    <tr>\n",
       "      <th>3</th>\n",
       "      <td>10.0</td>\n",
       "      <td>0</td>\n",
       "      <td>13.49</td>\n",
       "      <td>12</td>\n",
       "      <td>1</td>\n",
       "      <td>49.200</td>\n",
       "      <td>1</td>\n",
       "      <td>0</td>\n",
       "      <td>4</td>\n",
       "      <td>0.0</td>\n",
       "    </tr>\n",
       "    <tr>\n",
       "      <th>4</th>\n",
       "      <td>3.0</td>\n",
       "      <td>0</td>\n",
       "      <td>12.69</td>\n",
       "      <td>2</td>\n",
       "      <td>1</td>\n",
       "      <td>80.000</td>\n",
       "      <td>1</td>\n",
       "      <td>0</td>\n",
       "      <td>5</td>\n",
       "      <td>0.0</td>\n",
       "    </tr>\n",
       "    <tr>\n",
       "      <th>...</th>\n",
       "      <td>...</td>\n",
       "      <td>...</td>\n",
       "      <td>...</td>\n",
       "      <td>...</td>\n",
       "      <td>...</td>\n",
       "      <td>...</td>\n",
       "      <td>...</td>\n",
       "      <td>...</td>\n",
       "      <td>...</td>\n",
       "      <td>...</td>\n",
       "    </tr>\n",
       "    <tr>\n",
       "      <th>887374</th>\n",
       "      <td>10.0</td>\n",
       "      <td>0</td>\n",
       "      <td>11.99</td>\n",
       "      <td>9</td>\n",
       "      <td>1</td>\n",
       "      <td>31.000</td>\n",
       "      <td>2</td>\n",
       "      <td>2</td>\n",
       "      <td>5</td>\n",
       "      <td>0.0</td>\n",
       "    </tr>\n",
       "    <tr>\n",
       "      <th>887375</th>\n",
       "      <td>24.0</td>\n",
       "      <td>0</td>\n",
       "      <td>11.99</td>\n",
       "      <td>12</td>\n",
       "      <td>2</td>\n",
       "      <td>79.000</td>\n",
       "      <td>2</td>\n",
       "      <td>4</td>\n",
       "      <td>5</td>\n",
       "      <td>0.0</td>\n",
       "    </tr>\n",
       "    <tr>\n",
       "      <th>887376</th>\n",
       "      <td>13.0</td>\n",
       "      <td>0</td>\n",
       "      <td>15.99</td>\n",
       "      <td>6</td>\n",
       "      <td>1</td>\n",
       "      <td>35.000</td>\n",
       "      <td>2</td>\n",
       "      <td>2</td>\n",
       "      <td>3</td>\n",
       "      <td>0.0</td>\n",
       "    </tr>\n",
       "    <tr>\n",
       "      <th>887377</th>\n",
       "      <td>12.0</td>\n",
       "      <td>0</td>\n",
       "      <td>19.99</td>\n",
       "      <td>2</td>\n",
       "      <td>1</td>\n",
       "      <td>64.400</td>\n",
       "      <td>1</td>\n",
       "      <td>2</td>\n",
       "      <td>2</td>\n",
       "      <td>0.0</td>\n",
       "    </tr>\n",
       "    <tr>\n",
       "      <th>887378</th>\n",
       "      <td>20.0</td>\n",
       "      <td>0</td>\n",
       "      <td>11.99</td>\n",
       "      <td>12</td>\n",
       "      <td>1</td>\n",
       "      <td>100.000</td>\n",
       "      <td>2</td>\n",
       "      <td>1</td>\n",
       "      <td>5</td>\n",
       "      <td>0.0</td>\n",
       "    </tr>\n",
       "  </tbody>\n",
       "</table>\n",
       "<p>887379 rows × 10 columns</p>\n",
       "</div>"
      ],
      "text/plain": [
       "        loan_amnt  term  int_rate  emp_length  home_ownership  annual_inc  \\\n",
       "0             5.0     0     10.65          12               1      24.000   \n",
       "1             2.5     0     15.27           1               1      30.000   \n",
       "2             2.4     0     15.96          12               1      12.252   \n",
       "3            10.0     0     13.49          12               1      49.200   \n",
       "4             3.0     0     12.69           2               1      80.000   \n",
       "...           ...   ...       ...         ...             ...         ...   \n",
       "887374       10.0     0     11.99           9               1      31.000   \n",
       "887375       24.0     0     11.99          12               2      79.000   \n",
       "887376       13.0     0     15.99           6               1      35.000   \n",
       "887377       12.0     0     19.99           2               1      64.400   \n",
       "887378       20.0     0     11.99          12               1     100.000   \n",
       "\n",
       "        verification_status  purpose  grades_value  label  \n",
       "0                         2        1             5    0.0  \n",
       "1                         1        6             4    1.0  \n",
       "2                         0        8             4    0.0  \n",
       "3                         1        0             4    0.0  \n",
       "4                         1        0             5    0.0  \n",
       "...                     ...      ...           ...    ...  \n",
       "887374                    2        2             5    0.0  \n",
       "887375                    2        4             5    0.0  \n",
       "887376                    2        2             3    0.0  \n",
       "887377                    1        2             2    0.0  \n",
       "887378                    2        1             5    0.0  \n",
       "\n",
       "[887379 rows x 10 columns]"
      ]
     },
     "execution_count": 5,
     "metadata": {},
     "output_type": "execute_result"
    }
   ],
   "source": [
    "df"
   ]
  },
  {
   "cell_type": "markdown",
   "id": "82649515",
   "metadata": {},
   "source": [
    "# Split the Data into Training and Testing"
   ]
  },
  {
   "cell_type": "code",
   "execution_count": 6,
   "id": "f378a56d",
   "metadata": {},
   "outputs": [],
   "source": [
    "# Create our features\n",
    "X = df.drop(\"label\", axis=1)\n",
    "X = pd.get_dummies(X)\n",
    "\n",
    "# Create our target\n",
    "y = df.label.copy()"
   ]
  },
  {
   "cell_type": "code",
   "execution_count": 7,
   "id": "7a2b6af0",
   "metadata": {},
   "outputs": [
    {
     "data": {
      "text/html": [
       "<div>\n",
       "<style scoped>\n",
       "    .dataframe tbody tr th:only-of-type {\n",
       "        vertical-align: middle;\n",
       "    }\n",
       "\n",
       "    .dataframe tbody tr th {\n",
       "        vertical-align: top;\n",
       "    }\n",
       "\n",
       "    .dataframe thead th {\n",
       "        text-align: right;\n",
       "    }\n",
       "</style>\n",
       "<table border=\"1\" class=\"dataframe\">\n",
       "  <thead>\n",
       "    <tr style=\"text-align: right;\">\n",
       "      <th></th>\n",
       "      <th>loan_amnt</th>\n",
       "      <th>term</th>\n",
       "      <th>int_rate</th>\n",
       "      <th>emp_length</th>\n",
       "      <th>home_ownership</th>\n",
       "      <th>annual_inc</th>\n",
       "      <th>verification_status</th>\n",
       "      <th>purpose</th>\n",
       "      <th>grades_value</th>\n",
       "    </tr>\n",
       "  </thead>\n",
       "  <tbody>\n",
       "    <tr>\n",
       "      <th>count</th>\n",
       "      <td>887379.000000</td>\n",
       "      <td>887379.0</td>\n",
       "      <td>887379.000000</td>\n",
       "      <td>887379.000000</td>\n",
       "      <td>887379.000000</td>\n",
       "      <td>887379.00000</td>\n",
       "      <td>887379.000000</td>\n",
       "      <td>887379.000000</td>\n",
       "      <td>887379.000000</td>\n",
       "    </tr>\n",
       "    <tr>\n",
       "      <th>mean</th>\n",
       "      <td>14.755265</td>\n",
       "      <td>0.0</td>\n",
       "      <td>13.246740</td>\n",
       "      <td>6.983232</td>\n",
       "      <td>1.696728</td>\n",
       "      <td>75.02725</td>\n",
       "      <td>1.027408</td>\n",
       "      <td>2.128900</td>\n",
       "      <td>4.201597</td>\n",
       "    </tr>\n",
       "    <tr>\n",
       "      <th>std</th>\n",
       "      <td>8.435456</td>\n",
       "      <td>0.0</td>\n",
       "      <td>4.381867</td>\n",
       "      <td>4.265429</td>\n",
       "      <td>0.639508</td>\n",
       "      <td>64.69835</td>\n",
       "      <td>0.792380</td>\n",
       "      <td>1.646615</td>\n",
       "      <td>1.312599</td>\n",
       "    </tr>\n",
       "    <tr>\n",
       "      <th>min</th>\n",
       "      <td>0.500000</td>\n",
       "      <td>0.0</td>\n",
       "      <td>5.320000</td>\n",
       "      <td>0.000000</td>\n",
       "      <td>0.000000</td>\n",
       "      <td>0.00000</td>\n",
       "      <td>0.000000</td>\n",
       "      <td>0.000000</td>\n",
       "      <td>0.000000</td>\n",
       "    </tr>\n",
       "    <tr>\n",
       "      <th>25%</th>\n",
       "      <td>8.000000</td>\n",
       "      <td>0.0</td>\n",
       "      <td>9.990000</td>\n",
       "      <td>3.000000</td>\n",
       "      <td>1.000000</td>\n",
       "      <td>45.00000</td>\n",
       "      <td>0.000000</td>\n",
       "      <td>1.000000</td>\n",
       "      <td>3.000000</td>\n",
       "    </tr>\n",
       "    <tr>\n",
       "      <th>50%</th>\n",
       "      <td>13.000000</td>\n",
       "      <td>0.0</td>\n",
       "      <td>12.990000</td>\n",
       "      <td>7.000000</td>\n",
       "      <td>2.000000</td>\n",
       "      <td>65.00000</td>\n",
       "      <td>1.000000</td>\n",
       "      <td>2.000000</td>\n",
       "      <td>4.000000</td>\n",
       "    </tr>\n",
       "    <tr>\n",
       "      <th>75%</th>\n",
       "      <td>20.000000</td>\n",
       "      <td>0.0</td>\n",
       "      <td>16.200000</td>\n",
       "      <td>12.000000</td>\n",
       "      <td>2.000000</td>\n",
       "      <td>90.00000</td>\n",
       "      <td>2.000000</td>\n",
       "      <td>2.000000</td>\n",
       "      <td>5.000000</td>\n",
       "    </tr>\n",
       "    <tr>\n",
       "      <th>max</th>\n",
       "      <td>35.000000</td>\n",
       "      <td>0.0</td>\n",
       "      <td>28.990000</td>\n",
       "      <td>12.000000</td>\n",
       "      <td>3.000000</td>\n",
       "      <td>9500.00000</td>\n",
       "      <td>2.000000</td>\n",
       "      <td>13.000000</td>\n",
       "      <td>6.000000</td>\n",
       "    </tr>\n",
       "  </tbody>\n",
       "</table>\n",
       "</div>"
      ],
      "text/plain": [
       "           loan_amnt      term       int_rate     emp_length  home_ownership  \\\n",
       "count  887379.000000  887379.0  887379.000000  887379.000000   887379.000000   \n",
       "mean       14.755265       0.0      13.246740       6.983232        1.696728   \n",
       "std         8.435456       0.0       4.381867       4.265429        0.639508   \n",
       "min         0.500000       0.0       5.320000       0.000000        0.000000   \n",
       "25%         8.000000       0.0       9.990000       3.000000        1.000000   \n",
       "50%        13.000000       0.0      12.990000       7.000000        2.000000   \n",
       "75%        20.000000       0.0      16.200000      12.000000        2.000000   \n",
       "max        35.000000       0.0      28.990000      12.000000        3.000000   \n",
       "\n",
       "         annual_inc  verification_status        purpose   grades_value  \n",
       "count  887379.00000        887379.000000  887379.000000  887379.000000  \n",
       "mean       75.02725             1.027408       2.128900       4.201597  \n",
       "std        64.69835             0.792380       1.646615       1.312599  \n",
       "min         0.00000             0.000000       0.000000       0.000000  \n",
       "25%        45.00000             0.000000       1.000000       3.000000  \n",
       "50%        65.00000             1.000000       2.000000       4.000000  \n",
       "75%        90.00000             2.000000       2.000000       5.000000  \n",
       "max      9500.00000             2.000000      13.000000       6.000000  "
      ]
     },
     "execution_count": 7,
     "metadata": {},
     "output_type": "execute_result"
    }
   ],
   "source": [
    "X.describe()"
   ]
  },
  {
   "cell_type": "code",
   "execution_count": 8,
   "id": "f520195b",
   "metadata": {},
   "outputs": [
    {
     "data": {
      "text/plain": [
       "0.0    811490\n",
       "1.0     75889\n",
       "Name: label, dtype: int64"
      ]
     },
     "execution_count": 8,
     "metadata": {},
     "output_type": "execute_result"
    }
   ],
   "source": [
    "# Check the balance of our target values\n",
    "y.value_counts()"
   ]
  },
  {
   "cell_type": "code",
   "execution_count": 9,
   "id": "73c78996",
   "metadata": {},
   "outputs": [
    {
     "name": "stdout",
     "output_type": "stream",
     "text": [
      "Counter({0.0: 608823, 1.0: 56711})\n",
      "Counter({0.0: 202667, 1.0: 19178})\n"
     ]
    }
   ],
   "source": [
    "from sklearn.model_selection import train_test_split\n",
    "X_train, X_test, y_train, y_test = train_test_split(X, y, random_state=1)\n",
    "print(Counter(y_train))\n",
    "print(Counter(y_test))"
   ]
  },
  {
   "cell_type": "markdown",
   "id": "21f14951",
   "metadata": {},
   "source": [
    "# Balanced Random Forest Classifier\n"
   ]
  },
  {
   "cell_type": "code",
   "execution_count": 10,
   "id": "ab8a953a",
   "metadata": {},
   "outputs": [
    {
     "name": "stdout",
     "output_type": "stream",
     "text": [
      "Counter({0.0: 608823, 1.0: 56711})\n"
     ]
    }
   ],
   "source": [
    "# Resample the training data with the BalancedRandomForestClassifier\n",
    "from imblearn.ensemble import BalancedRandomForestClassifier\n",
    "rf_model = BalancedRandomForestClassifier(n_estimators=100, random_state=1)\n",
    "rf_model.fit(X_train, y_train)\n",
    "print(Counter(y_train))"
   ]
  },
  {
   "cell_type": "code",
   "execution_count": 11,
   "id": "c7abae5f",
   "metadata": {},
   "outputs": [],
   "source": [
    "# Calculate predictions\n",
    "y_pred = rf_model.predict(X_test)"
   ]
  },
  {
   "cell_type": "code",
   "execution_count": 12,
   "id": "b0e41f24",
   "metadata": {},
   "outputs": [
    {
     "data": {
      "text/plain": [
       "0.6460359719780795"
      ]
     },
     "execution_count": 12,
     "metadata": {},
     "output_type": "execute_result"
    }
   ],
   "source": [
    "# Calculated the balanced accuracy score\n",
    "from sklearn.metrics import confusion_matrix, accuracy_score\n",
    "balanced_accuracy_score(y_test,y_pred)"
   ]
  },
  {
   "cell_type": "code",
   "execution_count": 13,
   "id": "39522329",
   "metadata": {
    "scrolled": true
   },
   "outputs": [
    {
     "data": {
      "text/html": [
       "<div>\n",
       "<style scoped>\n",
       "    .dataframe tbody tr th:only-of-type {\n",
       "        vertical-align: middle;\n",
       "    }\n",
       "\n",
       "    .dataframe tbody tr th {\n",
       "        vertical-align: top;\n",
       "    }\n",
       "\n",
       "    .dataframe thead th {\n",
       "        text-align: right;\n",
       "    }\n",
       "</style>\n",
       "<table border=\"1\" class=\"dataframe\">\n",
       "  <thead>\n",
       "    <tr style=\"text-align: right;\">\n",
       "      <th></th>\n",
       "      <th>Predicted Low_risk</th>\n",
       "      <th>Predicted High_risk</th>\n",
       "    </tr>\n",
       "  </thead>\n",
       "  <tbody>\n",
       "    <tr>\n",
       "      <th>Actual Low_Risk</th>\n",
       "      <td>129870</td>\n",
       "      <td>72797</td>\n",
       "    </tr>\n",
       "    <tr>\n",
       "      <th>Actual High_Risk</th>\n",
       "      <td>6688</td>\n",
       "      <td>12490</td>\n",
       "    </tr>\n",
       "  </tbody>\n",
       "</table>\n",
       "</div>"
      ],
      "text/plain": [
       "                  Predicted Low_risk  Predicted High_risk\n",
       "Actual Low_Risk               129870                72797\n",
       "Actual High_Risk                6688                12490"
      ]
     },
     "execution_count": 13,
     "metadata": {},
     "output_type": "execute_result"
    }
   ],
   "source": [
    "# Display the confusion matrix\n",
    "cm = confusion_matrix(y_test, y_pred)\n",
    "\n",
    "# Create a DataFrame from the confusion matrix.\n",
    "cm_df = pd.DataFrame(\n",
    "    cm, index = [\"Actual Low_Risk\", \"Actual High_Risk\"],columns=[\"Predicted Low_risk\",\"Predicted High_risk\"])\n",
    "cm_df"
   ]
  },
  {
   "cell_type": "code",
   "execution_count": 14,
   "id": "8e55b309",
   "metadata": {},
   "outputs": [
    {
     "name": "stdout",
     "output_type": "stream",
     "text": [
      "                   pre       rec       spe        f1       geo       iba       sup\n",
      "\n",
      "        0.0       0.95      0.64      0.65      0.77      0.65      0.42    202667\n",
      "        1.0       0.15      0.65      0.64      0.24      0.65      0.42     19178\n",
      "\n",
      "avg / total       0.88      0.64      0.65      0.72      0.65      0.42    221845\n",
      "\n"
     ]
    }
   ],
   "source": [
    "# Print the imbalanced classification report\n",
    "print(classification_report_imbalanced(y_test, y_pred))"
   ]
  },
  {
   "cell_type": "code",
   "execution_count": 15,
   "id": "ef4eefb7",
   "metadata": {},
   "outputs": [
    {
     "name": "stdout",
     "output_type": "stream",
     "text": [
      "annual_inc:  24.9%\n",
      "int_rate:  24.3%\n",
      "loan_amnt:  22.8%\n",
      "emp_length:  11.2%\n",
      "purpose:  7.0%\n",
      "grades_value:  3.7%\n",
      "home_ownership:  3.1%\n",
      "verification_status:  3.0%\n",
      "term:  0.0%\n"
     ]
    }
   ],
   "source": [
    "# List the features sorted in descending order by feature importance\n",
    "importances = sorted(zip(rf_model.feature_importances_, X.columns), reverse=True)\n",
    "for importance in importances:\n",
    "    print(f'{importance[1]}:  {importance[0]*100:.1f}%')"
   ]
  },
  {
   "cell_type": "markdown",
   "id": "96f7404f",
   "metadata": {},
   "source": [
    "# Easy Ensemble AdaBoost Classifier"
   ]
  },
  {
   "cell_type": "code",
   "execution_count": 17,
   "id": "2fd236b4",
   "metadata": {},
   "outputs": [
    {
     "name": "stdout",
     "output_type": "stream",
     "text": [
      "Counter({0.0: 608823, 1.0: 56711})\n"
     ]
    }
   ],
   "source": [
    "# Train the EasyEnsembleClassifier\n",
    "from imblearn.ensemble import EasyEnsembleClassifier\n",
    "EE_model = EasyEnsembleClassifier(n_estimators=100, random_state=1)\n",
    "EE_model.fit(X_train, y_train)\n",
    "print(Counter(y_train))"
   ]
  },
  {
   "cell_type": "code",
   "execution_count": 18,
   "id": "809ce676",
   "metadata": {},
   "outputs": [
    {
     "data": {
      "text/plain": [
       "0.6460359719780795"
      ]
     },
     "execution_count": 18,
     "metadata": {},
     "output_type": "execute_result"
    }
   ],
   "source": [
    "# Calculated the balanced accuracy score\n",
    "balanced_accuracy_score(y_test,y_pred)"
   ]
  },
  {
   "cell_type": "code",
   "execution_count": 21,
   "id": "6ffa03e4",
   "metadata": {},
   "outputs": [
    {
     "data": {
      "text/html": [
       "<div>\n",
       "<style scoped>\n",
       "    .dataframe tbody tr th:only-of-type {\n",
       "        vertical-align: middle;\n",
       "    }\n",
       "\n",
       "    .dataframe tbody tr th {\n",
       "        vertical-align: top;\n",
       "    }\n",
       "\n",
       "    .dataframe thead th {\n",
       "        text-align: right;\n",
       "    }\n",
       "</style>\n",
       "<table border=\"1\" class=\"dataframe\">\n",
       "  <thead>\n",
       "    <tr style=\"text-align: right;\">\n",
       "      <th></th>\n",
       "      <th>Predicted Low_Risk</th>\n",
       "      <th>Predicted High_Risk</th>\n",
       "    </tr>\n",
       "  </thead>\n",
       "  <tbody>\n",
       "    <tr>\n",
       "      <th>Actual Low_Risk</th>\n",
       "      <td>129870</td>\n",
       "      <td>72797</td>\n",
       "    </tr>\n",
       "    <tr>\n",
       "      <th>Actual High_Risk</th>\n",
       "      <td>6688</td>\n",
       "      <td>12490</td>\n",
       "    </tr>\n",
       "  </tbody>\n",
       "</table>\n",
       "</div>"
      ],
      "text/plain": [
       "                  Predicted Low_Risk  Predicted High_Risk\n",
       "Actual Low_Risk               129870                72797\n",
       "Actual High_Risk                6688                12490"
      ]
     },
     "execution_count": 21,
     "metadata": {},
     "output_type": "execute_result"
    }
   ],
   "source": [
    "# Display the confusion matrix\n",
    "cm2 = confusion_matrix(y_test, y_pred)\n",
    "\n",
    "# Create a DataFrame from the confusion matrix.\n",
    "cm2_df = pd.DataFrame(\n",
    "    cm2, index=[\"Actual Low_Risk\", \"Actual High_Risk\"], columns=[\"Predicted Low_Risk\", \"Predicted High_Risk\"])\n",
    "\n",
    "cm2_df"
   ]
  },
  {
   "cell_type": "code",
   "execution_count": 20,
   "id": "2ce475d8",
   "metadata": {},
   "outputs": [
    {
     "name": "stdout",
     "output_type": "stream",
     "text": [
      "                   pre       rec       spe        f1       geo       iba       sup\n",
      "\n",
      "        0.0       0.95      0.64      0.65      0.77      0.65      0.42    202667\n",
      "        1.0       0.15      0.65      0.64      0.24      0.65      0.42     19178\n",
      "\n",
      "avg / total       0.88      0.64      0.65      0.72      0.65      0.42    221845\n",
      "\n"
     ]
    }
   ],
   "source": [
    "# Print the imbalanced classification report\n",
    "print(classification_report_imbalanced(y_test, y_pred))"
   ]
  },
  {
   "cell_type": "code",
   "execution_count": null,
   "id": "e2467a88",
   "metadata": {},
   "outputs": [],
   "source": []
  }
 ],
 "metadata": {
  "kernelspec": {
   "display_name": "mlenv",
   "language": "python",
   "name": "mlenv"
  },
  "language_info": {
   "codemirror_mode": {
    "name": "ipython",
    "version": 3
   },
   "file_extension": ".py",
   "mimetype": "text/x-python",
   "name": "python",
   "nbconvert_exporter": "python",
   "pygments_lexer": "ipython3",
   "version": "3.9.12"
  }
 },
 "nbformat": 4,
 "nbformat_minor": 5
}
